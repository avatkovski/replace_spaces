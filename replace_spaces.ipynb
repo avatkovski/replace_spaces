{
 "cells": [
  {
   "cell_type": "code",
   "execution_count": null,
   "metadata": {},
   "outputs": [],
   "source": [
    "import os\n",
    "input_path = 'Q:\\\\dp_work\\\\philips\\\\work2019\\\\PC\\\\SPSS Data\\\\01 Main data\\\\03 Q3\\\\New Folder\\\\Input\\\\'\n",
    "output_path = 'Q:\\\\dp_work\\\\philips\\\\work2019\\\\PC\\\\SPSS Data\\\\01 Main data\\\\03 Q3\\\\New Folder\\\\Output\\\\'\n",
    "for filename in os.listdir(input_path):\n",
    "    f1 = open(input_path + filename, 'r')\n",
    "    f2 = open(output_path + filename, 'w')\n",
    "    for line in f1:\n",
    "        f2.write(line.replace(' ', ''))\n",
    "    f1.close()\n",
    "    f2.close()"
   ]
  }
 ],
 "metadata": {
  "kernelspec": {
   "display_name": "Python 3",
   "language": "python",
   "name": "python3"
  },
  "language_info": {
   "codemirror_mode": {
    "name": "ipython",
    "version": 3
   },
   "file_extension": ".py",
   "mimetype": "text/x-python",
   "name": "python",
   "nbconvert_exporter": "python",
   "pygments_lexer": "ipython3",
   "version": "3.7.3"
  }
 },
 "nbformat": 4,
 "nbformat_minor": 2
}
